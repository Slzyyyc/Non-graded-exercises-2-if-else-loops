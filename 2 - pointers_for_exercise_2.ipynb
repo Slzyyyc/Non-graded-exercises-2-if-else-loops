{
 "cells": [
  {
   "cell_type": "markdown",
   "metadata": {},
   "source": [
    "enumerate() method: "
   ]
  },
  {
   "cell_type": "code",
   "execution_count": 1,
   "metadata": {},
   "outputs": [
    {
     "name": "stdout",
     "output_type": "stream",
     "text": [
      "Index: 0, Character: H\n",
      "Index: 1, Character: o\n",
      "Index: 2, Character: w\n",
      "Index: 3, Character: l\n",
      "Index: 4, Character: '\n",
      "Index: 5, Character: s\n",
      "Index: 6, Character:  \n",
      "Index: 7, Character: M\n",
      "Index: 8, Character: o\n",
      "Index: 9, Character: v\n",
      "Index: 10, Character: i\n",
      "Index: 11, Character: n\n",
      "Index: 12, Character: g\n",
      "Index: 13, Character:  \n",
      "Index: 14, Character: C\n",
      "Index: 15, Character: a\n",
      "Index: 16, Character: s\n",
      "Index: 17, Character: t\n",
      "Index: 18, Character: l\n",
      "Index: 19, Character: e\n"
     ]
    }
   ],
   "source": [
    "str1 = \"Howl's Moving Castle\"\n",
    "\n",
    "\n",
    "for index, char in enumerate(str1):\n",
    "    print(f\"Index: {index}, Character: {char}\")\n"
   ]
  },
  {
   "cell_type": "markdown",
   "metadata": {},
   "source": [
    "join() method:"
   ]
  },
  {
   "cell_type": "code",
   "execution_count": 2,
   "metadata": {},
   "outputs": [
    {
     "name": "stdout",
     "output_type": "stream",
     "text": [
      "Joined with space: Baa baa black sheep\n",
      "Joined with comma and space: Baa, baa, black, sheep\n",
      "Joined with hyphen: Baa-baa-black-sheep\n",
      "Joined with no separator: Baabaablacksheep\n"
     ]
    }
   ],
   "source": [
    "\n",
    "some_list = ['Baa', 'baa', 'black', 'sheep']\n",
    "\n",
    "result_space = ' '.join(some_list)\n",
    "print(\"Joined with space:\", result_space)\n",
    "\n",
    "result_comma = ', '.join(some_list)\n",
    "print(\"Joined with comma and space:\", result_comma)\n",
    "result_hyphen = '-'.join(some_list)\n",
    "print(\"Joined with hyphen:\", result_hyphen)\n",
    "\n",
    "result_no_separator = ''.join(some_list)\n",
    "print(\"Joined with no separator:\", result_no_separator)\n"
   ]
  },
  {
   "cell_type": "markdown",
   "metadata": {},
   "source": [
    "random() method:"
   ]
  },
  {
   "cell_type": "code",
   "execution_count": 3,
   "metadata": {},
   "outputs": [
    {
     "name": "stdout",
     "output_type": "stream",
     "text": [
      "Randomly selected element from list: sheep\n",
      "Random floating-point number between 0.0 and 1.0: 0.16013150115604102\n"
     ]
    }
   ],
   "source": [
    "import random\n",
    "\n",
    "some_list = ['Baa', 'baa', 'black', 'sheep']\n",
    "\n",
    "random_element = random.choice(some_list)\n",
    "print(\"Randomly selected element from list:\", random_element)\n",
    "\n",
    "random_number = random.random()\n",
    "print(\"Random floating-point number between 0.0 and 1.0:\", random_number)\n"
   ]
  }
 ],
 "metadata": {
  "kernelspec": {
   "display_name": "Python 3",
   "language": "python",
   "name": "python3"
  },
  "language_info": {
   "codemirror_mode": {
    "name": "ipython",
    "version": 3
   },
   "file_extension": ".py",
   "mimetype": "text/x-python",
   "name": "python",
   "nbconvert_exporter": "python",
   "pygments_lexer": "ipython3",
   "version": "3.11.5"
  }
 },
 "nbformat": 4,
 "nbformat_minor": 2
}
